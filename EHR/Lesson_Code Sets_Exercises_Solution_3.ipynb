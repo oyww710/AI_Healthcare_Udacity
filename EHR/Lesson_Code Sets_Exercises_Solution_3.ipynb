{
 "cells": [
  {
   "cell_type": "markdown",
   "metadata": {},
   "source": [
    "## Code Sets Exercise 3: Compare Grouping with CCS - Solution"
   ]
  },
  {
   "cell_type": "markdown",
   "metadata": {},
   "source": [
    "### Dataset Source \n",
    "The portal [https://www.hcup-us.ahrq.gov/toolssoftware/ccs10/ccs10.jsp](https://www.hcup-us.ahrq.gov/toolssoftware/ccs10/ccs10.jsp) presents an overview, description, technical guidance, and downloading Information for Clinical Classifications Software (CCS) for ICD-10-PCS (beta version). The CCS is developed as a part of Healthcare Cost and Utilization Project (HCUP). We recommend you to go through each section to understand the data better. \n",
    "\n",
    "\n",
    "### Data Description\n",
    "We have already downloaded the `ccs_pr_icd10pcs_2020_1.zip` file available under the section \"Downloading Information for the CCS for ICD-10-PCS Tool\" in the above portal. We have tweaked the `.csv` file contained inside of the `.zip` file. The updated `.csv` file is provided locally in the current workspace, with the name `clean_ccs_pr_icd10pcs.csv`. \n",
    "\n",
    "\n",
    "The `clean_ccs_pr_icd10pcs.csv` file is composed of the following eight fields separated by commas:\n",
    "1. Procedure Code as 'ICD-10-PCS CODE'\n",
    "1. 'CCS CATEGORY',\n",
    "1. 'ICD-10-PCS CODE DESCRIPTION',\n",
    "1. 'CCS CATEGORY DESCRIPTION',\n",
    "1. Multi-level 1 Category as 'MULTI CCS LVL 1',\n",
    "1. Multi-level 1 Category Description as 'MULTI CCS LVL 1 LABEL',\n",
    "1. Multi-level 2 Category as 'MULTI CCS LVL 2',\n",
    "1. Multi-level 2 Category Description as 'MULTI CCS LVL 2 LABEL'\n",
    "\n",
    "\n",
    "### Exercise\n",
    "1. If you search the CCS_CATEGORY_DESCRIPTION for \"coronary\", what are the two single level categories that you find? What is/are the label(s) for the multi-level 1 categories?\n",
    "\n",
    "\n",
    "2. Given CCS single level category 45, what do you notice about the ICD10 PCS Codes? Do they all have a similar character pattern?\n",
    "\n",
    "\n",
    "### Solution"
   ]
  },
  {
   "cell_type": "code",
   "execution_count": 1,
   "metadata": {},
   "outputs": [],
   "source": [
    "import pandas as pd\n",
    "import numpy as np"
   ]
  },
  {
   "cell_type": "code",
   "execution_count": 2,
   "metadata": {},
   "outputs": [],
   "source": [
    "ccs_pcs_file_path = \"./clean_ccs_pr_icd10pcs.csv\""
   ]
  },
  {
   "cell_type": "code",
   "execution_count": 3,
   "metadata": {},
   "outputs": [],
   "source": [
    "ccs_pcs_df = pd.read_csv(ccs_pcs_file_path)"
   ]
  },
  {
   "cell_type": "code",
   "execution_count": 4,
   "metadata": {},
   "outputs": [
    {
     "data": {
      "text/html": [
       "<div>\n",
       "<style scoped>\n",
       "    .dataframe tbody tr th:only-of-type {\n",
       "        vertical-align: middle;\n",
       "    }\n",
       "\n",
       "    .dataframe tbody tr th {\n",
       "        vertical-align: top;\n",
       "    }\n",
       "\n",
       "    .dataframe thead th {\n",
       "        text-align: right;\n",
       "    }\n",
       "</style>\n",
       "<table border=\"1\" class=\"dataframe\">\n",
       "  <thead>\n",
       "    <tr style=\"text-align: right;\">\n",
       "      <th></th>\n",
       "      <th>ICD10_PCS_CODE</th>\n",
       "      <th>CCS_CATEGORY</th>\n",
       "      <th>ICD10_PCS_CODE_DESCRIPTION</th>\n",
       "      <th>CCS_CATEGORY_DESCRIPTION</th>\n",
       "      <th>MULTI_CCS_LVL_1</th>\n",
       "      <th>MULTI_CCS_LVL_1_LABEL</th>\n",
       "      <th>MULTI_CCS_LVL_2</th>\n",
       "      <th>MULTI_CCS_LVL_2_LABEL</th>\n",
       "    </tr>\n",
       "  </thead>\n",
       "  <tbody>\n",
       "    <tr>\n",
       "      <th>0</th>\n",
       "      <td>00800ZZ</td>\n",
       "      <td>1</td>\n",
       "      <td>Division of Brain, Open Approach</td>\n",
       "      <td>Incision and excision of CNS</td>\n",
       "      <td>1</td>\n",
       "      <td>Operations on the nervous system</td>\n",
       "      <td>1.1</td>\n",
       "      <td>Incision and excision of CNS [1.]</td>\n",
       "    </tr>\n",
       "    <tr>\n",
       "      <th>1</th>\n",
       "      <td>00803ZZ</td>\n",
       "      <td>1</td>\n",
       "      <td>Division of Brain, Percutaneous Approach</td>\n",
       "      <td>Incision and excision of CNS</td>\n",
       "      <td>1</td>\n",
       "      <td>Operations on the nervous system</td>\n",
       "      <td>1.1</td>\n",
       "      <td>Incision and excision of CNS [1.]</td>\n",
       "    </tr>\n",
       "    <tr>\n",
       "      <th>2</th>\n",
       "      <td>00804ZZ</td>\n",
       "      <td>1</td>\n",
       "      <td>Division of Brain, Percutaneous Endoscopic App...</td>\n",
       "      <td>Incision and excision of CNS</td>\n",
       "      <td>1</td>\n",
       "      <td>Operations on the nervous system</td>\n",
       "      <td>1.1</td>\n",
       "      <td>Incision and excision of CNS [1.]</td>\n",
       "    </tr>\n",
       "    <tr>\n",
       "      <th>3</th>\n",
       "      <td>00870ZZ</td>\n",
       "      <td>1</td>\n",
       "      <td>Division of Cerebral Hemisphere, Open Approach</td>\n",
       "      <td>Incision and excision of CNS</td>\n",
       "      <td>1</td>\n",
       "      <td>Operations on the nervous system</td>\n",
       "      <td>1.1</td>\n",
       "      <td>Incision and excision of CNS [1.]</td>\n",
       "    </tr>\n",
       "    <tr>\n",
       "      <th>4</th>\n",
       "      <td>00873ZZ</td>\n",
       "      <td>1</td>\n",
       "      <td>Division of Cerebral Hemisphere, Percutaneous ...</td>\n",
       "      <td>Incision and excision of CNS</td>\n",
       "      <td>1</td>\n",
       "      <td>Operations on the nervous system</td>\n",
       "      <td>1.1</td>\n",
       "      <td>Incision and excision of CNS [1.]</td>\n",
       "    </tr>\n",
       "  </tbody>\n",
       "</table>\n",
       "</div>"
      ],
      "text/plain": [
       "  ICD10_PCS_CODE  CCS_CATEGORY  \\\n",
       "0        00800ZZ             1   \n",
       "1        00803ZZ             1   \n",
       "2        00804ZZ             1   \n",
       "3        00870ZZ             1   \n",
       "4        00873ZZ             1   \n",
       "\n",
       "                          ICD10_PCS_CODE_DESCRIPTION  \\\n",
       "0                   Division of Brain, Open Approach   \n",
       "1           Division of Brain, Percutaneous Approach   \n",
       "2  Division of Brain, Percutaneous Endoscopic App...   \n",
       "3     Division of Cerebral Hemisphere, Open Approach   \n",
       "4  Division of Cerebral Hemisphere, Percutaneous ...   \n",
       "\n",
       "       CCS_CATEGORY_DESCRIPTION  MULTI_CCS_LVL_1  \\\n",
       "0  Incision and excision of CNS                1   \n",
       "1  Incision and excision of CNS                1   \n",
       "2  Incision and excision of CNS                1   \n",
       "3  Incision and excision of CNS                1   \n",
       "4  Incision and excision of CNS                1   \n",
       "\n",
       "              MULTI_CCS_LVL_1_LABEL  MULTI_CCS_LVL_2  \\\n",
       "0  Operations on the nervous system              1.1   \n",
       "1  Operations on the nervous system              1.1   \n",
       "2  Operations on the nervous system              1.1   \n",
       "3  Operations on the nervous system              1.1   \n",
       "4  Operations on the nervous system              1.1   \n",
       "\n",
       "               MULTI_CCS_LVL_2_LABEL  \n",
       "0  Incision and excision of CNS [1.]  \n",
       "1  Incision and excision of CNS [1.]  \n",
       "2  Incision and excision of CNS [1.]  \n",
       "3  Incision and excision of CNS [1.]  \n",
       "4  Incision and excision of CNS [1.]  "
      ]
     },
     "execution_count": 4,
     "metadata": {},
     "output_type": "execute_result"
    }
   ],
   "source": [
    "#  Inspect the dataset schema and look at some example rows\n",
    "ccs_pcs_df.head()"
   ]
  },
  {
   "cell_type": "markdown",
   "metadata": {},
   "source": [
    "**1.a.  If you search for CCS_CATEGORY_DESCRIPTION for \"coronary\", what are the two categories that you find?**"
   ]
  },
  {
   "cell_type": "code",
   "execution_count": 5,
   "metadata": {},
   "outputs": [],
   "source": [
    "coronary_ccs_df = ccs_pcs_df[ccs_pcs_df['CCS_CATEGORY_DESCRIPTION'].str.contains('coronary')]"
   ]
  },
  {
   "cell_type": "code",
   "execution_count": 6,
   "metadata": {},
   "outputs": [
    {
     "data": {
      "text/plain": [
       "array([45, 47])"
      ]
     },
     "execution_count": 6,
     "metadata": {},
     "output_type": "execute_result"
    }
   ],
   "source": [
    "coronary_ccs_df.CCS_CATEGORY.unique()"
   ]
  },
  {
   "cell_type": "code",
   "execution_count": 7,
   "metadata": {},
   "outputs": [
    {
     "data": {
      "text/plain": [
       "array(['Percutaneous transluminal coronary angioplasty (PTCA) with or without stent placement',\n",
       "       'Diagnostic cardiac catheterization; coronary arteriography'],\n",
       "      dtype=object)"
      ]
     },
     "execution_count": 7,
     "metadata": {},
     "output_type": "execute_result"
    }
   ],
   "source": [
    "coronary_ccs_df.CCS_CATEGORY_DESCRIPTION.unique()"
   ]
  },
  {
   "cell_type": "markdown",
   "metadata": {},
   "source": [
    "**1.b. What is/are the label(s) for the multi-level 1 categories?**"
   ]
  },
  {
   "cell_type": "code",
   "execution_count": 8,
   "metadata": {},
   "outputs": [
    {
     "data": {
      "text/plain": [
       "array(['Operations on the cardiovascular system'], dtype=object)"
      ]
     },
     "execution_count": 8,
     "metadata": {},
     "output_type": "execute_result"
    }
   ],
   "source": [
    "coronary_ccs_df.MULTI_CCS_LVL_1_LABEL.unique()"
   ]
  },
  {
   "cell_type": "markdown",
   "metadata": {},
   "source": [
    "**2. Given CCS single level category 45, what do you notice about the ICD10 PCS Codes? Do they all have a similar character pattern?**"
   ]
  },
  {
   "cell_type": "code",
   "execution_count": 9,
   "metadata": {},
   "outputs": [],
   "source": [
    "cat_45_df = ccs_pcs_df[ccs_pcs_df['CCS_CATEGORY']==45]"
   ]
  },
  {
   "cell_type": "code",
   "execution_count": 10,
   "metadata": {},
   "outputs": [
    {
     "data": {
      "text/html": [
       "<div>\n",
       "<style scoped>\n",
       "    .dataframe tbody tr th:only-of-type {\n",
       "        vertical-align: middle;\n",
       "    }\n",
       "\n",
       "    .dataframe tbody tr th {\n",
       "        vertical-align: top;\n",
       "    }\n",
       "\n",
       "    .dataframe thead th {\n",
       "        text-align: right;\n",
       "    }\n",
       "</style>\n",
       "<table border=\"1\" class=\"dataframe\">\n",
       "  <thead>\n",
       "    <tr style=\"text-align: right;\">\n",
       "      <th></th>\n",
       "      <th>ICD10_PCS_CODE</th>\n",
       "      <th>CCS_CATEGORY</th>\n",
       "      <th>ICD10_PCS_CODE_DESCRIPTION</th>\n",
       "      <th>CCS_CATEGORY_DESCRIPTION</th>\n",
       "      <th>MULTI_CCS_LVL_1</th>\n",
       "      <th>MULTI_CCS_LVL_1_LABEL</th>\n",
       "      <th>MULTI_CCS_LVL_2</th>\n",
       "      <th>MULTI_CCS_LVL_2_LABEL</th>\n",
       "    </tr>\n",
       "  </thead>\n",
       "  <tbody>\n",
       "    <tr>\n",
       "      <th>12507</th>\n",
       "      <td>0270346</td>\n",
       "      <td>45</td>\n",
       "      <td>Dilate 1 Cor Art, Bifurc, w Drug-elut Intra, Perc</td>\n",
       "      <td>Percutaneous transluminal coronary angioplasty...</td>\n",
       "      <td>7</td>\n",
       "      <td>Operations on the cardiovascular system</td>\n",
       "      <td>7.3</td>\n",
       "      <td>Percutaneous transluminal coronary angioplasty...</td>\n",
       "    </tr>\n",
       "    <tr>\n",
       "      <th>12508</th>\n",
       "      <td>027034Z</td>\n",
       "      <td>45</td>\n",
       "      <td>Dilation of 1 Cor Art with Drug-elut Intra, Pe...</td>\n",
       "      <td>Percutaneous transluminal coronary angioplasty...</td>\n",
       "      <td>7</td>\n",
       "      <td>Operations on the cardiovascular system</td>\n",
       "      <td>7.3</td>\n",
       "      <td>Percutaneous transluminal coronary angioplasty...</td>\n",
       "    </tr>\n",
       "    <tr>\n",
       "      <th>12509</th>\n",
       "      <td>0270356</td>\n",
       "      <td>45</td>\n",
       "      <td>Dilate of 1 Cor Art, Bifurc, with 2 Drug-elut,...</td>\n",
       "      <td>Percutaneous transluminal coronary angioplasty...</td>\n",
       "      <td>7</td>\n",
       "      <td>Operations on the cardiovascular system</td>\n",
       "      <td>7.3</td>\n",
       "      <td>Percutaneous transluminal coronary angioplasty...</td>\n",
       "    </tr>\n",
       "    <tr>\n",
       "      <th>12510</th>\n",
       "      <td>027035Z</td>\n",
       "      <td>45</td>\n",
       "      <td>Dilation of 1 Cor Art with 2 Drug-elut, Perc A...</td>\n",
       "      <td>Percutaneous transluminal coronary angioplasty...</td>\n",
       "      <td>7</td>\n",
       "      <td>Operations on the cardiovascular system</td>\n",
       "      <td>7.3</td>\n",
       "      <td>Percutaneous transluminal coronary angioplasty...</td>\n",
       "    </tr>\n",
       "    <tr>\n",
       "      <th>12511</th>\n",
       "      <td>0270366</td>\n",
       "      <td>45</td>\n",
       "      <td>Dilate of 1 Cor Art, Bifurc, with 3 Drug-elut,...</td>\n",
       "      <td>Percutaneous transluminal coronary angioplasty...</td>\n",
       "      <td>7</td>\n",
       "      <td>Operations on the cardiovascular system</td>\n",
       "      <td>7.3</td>\n",
       "      <td>Percutaneous transluminal coronary angioplasty...</td>\n",
       "    </tr>\n",
       "  </tbody>\n",
       "</table>\n",
       "</div>"
      ],
      "text/plain": [
       "      ICD10_PCS_CODE  CCS_CATEGORY  \\\n",
       "12507        0270346            45   \n",
       "12508        027034Z            45   \n",
       "12509        0270356            45   \n",
       "12510        027035Z            45   \n",
       "12511        0270366            45   \n",
       "\n",
       "                              ICD10_PCS_CODE_DESCRIPTION  \\\n",
       "12507  Dilate 1 Cor Art, Bifurc, w Drug-elut Intra, Perc   \n",
       "12508  Dilation of 1 Cor Art with Drug-elut Intra, Pe...   \n",
       "12509  Dilate of 1 Cor Art, Bifurc, with 2 Drug-elut,...   \n",
       "12510  Dilation of 1 Cor Art with 2 Drug-elut, Perc A...   \n",
       "12511  Dilate of 1 Cor Art, Bifurc, with 3 Drug-elut,...   \n",
       "\n",
       "                                CCS_CATEGORY_DESCRIPTION  MULTI_CCS_LVL_1  \\\n",
       "12507  Percutaneous transluminal coronary angioplasty...                7   \n",
       "12508  Percutaneous transluminal coronary angioplasty...                7   \n",
       "12509  Percutaneous transluminal coronary angioplasty...                7   \n",
       "12510  Percutaneous transluminal coronary angioplasty...                7   \n",
       "12511  Percutaneous transluminal coronary angioplasty...                7   \n",
       "\n",
       "                         MULTI_CCS_LVL_1_LABEL  MULTI_CCS_LVL_2  \\\n",
       "12507  Operations on the cardiovascular system              7.3   \n",
       "12508  Operations on the cardiovascular system              7.3   \n",
       "12509  Operations on the cardiovascular system              7.3   \n",
       "12510  Operations on the cardiovascular system              7.3   \n",
       "12511  Operations on the cardiovascular system              7.3   \n",
       "\n",
       "                                   MULTI_CCS_LVL_2_LABEL  \n",
       "12507  Percutaneous transluminal coronary angioplasty...  \n",
       "12508  Percutaneous transluminal coronary angioplasty...  \n",
       "12509  Percutaneous transluminal coronary angioplasty...  \n",
       "12510  Percutaneous transluminal coronary angioplasty...  \n",
       "12511  Percutaneous transluminal coronary angioplasty...  "
      ]
     },
     "execution_count": 10,
     "metadata": {},
     "output_type": "execute_result"
    }
   ],
   "source": [
    "cat_45_df.head()"
   ]
  },
  {
   "cell_type": "code",
   "execution_count": 11,
   "metadata": {},
   "outputs": [
    {
     "data": {
      "text/plain": [
       "{'0'}"
      ]
     },
     "execution_count": 11,
     "metadata": {},
     "output_type": "execute_result"
    }
   ],
   "source": [
    "ccs_first_character_set = set(cat_45_df['ICD10_PCS_CODE'].str[0:1])\n",
    "ccs_first_character_set"
   ]
  },
  {
   "cell_type": "code",
   "execution_count": 12,
   "metadata": {},
   "outputs": [
    {
     "data": {
      "text/plain": [
       "{'02'}"
      ]
     },
     "execution_count": 12,
     "metadata": {},
     "output_type": "execute_result"
    }
   ],
   "source": [
    "ccs_two_character_set = set(cat_45_df['ICD10_PCS_CODE'].str[0:2])\n",
    "ccs_two_character_set"
   ]
  },
  {
   "cell_type": "code",
   "execution_count": 13,
   "metadata": {},
   "outputs": [
    {
     "data": {
      "text/plain": [
       "{'027', '02C'}"
      ]
     },
     "execution_count": 13,
     "metadata": {},
     "output_type": "execute_result"
    }
   ],
   "source": [
    "ccs_three_code_set = set(cat_45_df['ICD10_PCS_CODE'].str[0:3])\n",
    "ccs_three_code_set"
   ]
  },
  {
   "cell_type": "code",
   "execution_count": 14,
   "metadata": {},
   "outputs": [
    {
     "data": {
      "text/plain": [
       "{'0270', '0271', '0272', '0273', '02C0', '02C1', '02C2', '02C3'}"
      ]
     },
     "execution_count": 14,
     "metadata": {},
     "output_type": "execute_result"
    }
   ],
   "source": [
    "ccs_four_code_set = set(cat_45_df['ICD10_PCS_CODE'].str[0:4])\n",
    "ccs_four_code_set"
   ]
  },
  {
   "cell_type": "code",
   "execution_count": null,
   "metadata": {},
   "outputs": [],
   "source": []
  }
 ],
 "metadata": {
  "kernelspec": {
   "display_name": "Python 3",
   "language": "python",
   "name": "python3"
  },
  "language_info": {
   "codemirror_mode": {
    "name": "ipython",
    "version": 3
   },
   "file_extension": ".py",
   "mimetype": "text/x-python",
   "name": "python",
   "nbconvert_exporter": "python",
   "pygments_lexer": "ipython3",
   "version": "3.7.6"
  }
 },
 "nbformat": 4,
 "nbformat_minor": 4
}
