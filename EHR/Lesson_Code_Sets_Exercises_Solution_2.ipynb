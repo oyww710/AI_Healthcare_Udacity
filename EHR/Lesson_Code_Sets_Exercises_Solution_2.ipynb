{
 "cells": [
  {
   "cell_type": "markdown",
   "metadata": {},
   "source": [
    "## Code Sets Exercise 2: Procedure Code Grouping - Solution"
   ]
  },
  {
   "cell_type": "markdown",
   "metadata": {},
   "source": [
    "### Datasets \n",
    "- 2018 CA inpatient dataset - https://data.chhs.ca.gov/dataset/hospital-inpatient-diagnosis-procedure-and-external-cause-codes/\n",
    "- Attribution to CA https://data.chhs.ca.gov/pages/terms\n",
    "\n",
    "### Instructions\n",
    "Please use the above dataset from the state of California that provides the total inpatient diagnosis counts using the ICD10 - PCS code set. \n",
    "1. Give the codes that have 'CORONARY ARTERY\" in the description\n",
    "2. What percentage of primary procedure codes could be grouped at the B category level? \n",
    "3. What is the highest percentage grouping you can make with 3 characters for the secondary procedure code? \n"
   ]
  },
  {
   "cell_type": "code",
   "execution_count": 1,
   "metadata": {},
   "outputs": [],
   "source": [
    "import pandas as pd\n",
    "import numpy as np"
   ]
  },
  {
   "cell_type": "code",
   "execution_count": 2,
   "metadata": {},
   "outputs": [],
   "source": [
    "ca_icd_pc_path = './ICD-10-PCS-Table 1.csv'"
   ]
  },
  {
   "cell_type": "code",
   "execution_count": 3,
   "metadata": {},
   "outputs": [],
   "source": [
    "#last row is malformed\n",
    "proc_df = pd.read_csv(ca_icd_pc_path).fillna(0)[:-1]"
   ]
  },
  {
   "cell_type": "code",
   "execution_count": 4,
   "metadata": {},
   "outputs": [
    {
     "data": {
      "text/html": [
       "<div>\n",
       "<style scoped>\n",
       "    .dataframe tbody tr th:only-of-type {\n",
       "        vertical-align: middle;\n",
       "    }\n",
       "\n",
       "    .dataframe tbody tr th {\n",
       "        vertical-align: top;\n",
       "    }\n",
       "\n",
       "    .dataframe thead th {\n",
       "        text-align: right;\n",
       "    }\n",
       "</style>\n",
       "<table border=\"1\" class=\"dataframe\">\n",
       "  <thead>\n",
       "    <tr style=\"text-align: right;\">\n",
       "      <th></th>\n",
       "      <th>ProcedureCode</th>\n",
       "      <th>ProcedureDesc</th>\n",
       "      <th>TotalProc</th>\n",
       "      <th>PrimaryProc</th>\n",
       "      <th>SecondProc</th>\n",
       "    </tr>\n",
       "  </thead>\n",
       "  <tbody>\n",
       "    <tr>\n",
       "      <th>0</th>\n",
       "      <td>0016073</td>\n",
       "      <td>BYPASS CEREB VENT TO BLOOD VESS W AUTOL SUB, OPEN</td>\n",
       "      <td>2</td>\n",
       "      <td>0</td>\n",
       "      <td>2</td>\n",
       "    </tr>\n",
       "    <tr>\n",
       "      <th>1</th>\n",
       "      <td>00160J2</td>\n",
       "      <td>BYPASS CEREB VENT TO ATRIUM WITH SYNTH SUB, OP...</td>\n",
       "      <td>17</td>\n",
       "      <td>8</td>\n",
       "      <td>9</td>\n",
       "    </tr>\n",
       "    <tr>\n",
       "      <th>2</th>\n",
       "      <td>00160J4</td>\n",
       "      <td>BYPASS CEREB VENT TO PLEURAL CAV W SYNTH SUB, ...</td>\n",
       "      <td>17</td>\n",
       "      <td>6</td>\n",
       "      <td>11</td>\n",
       "    </tr>\n",
       "    <tr>\n",
       "      <th>3</th>\n",
       "      <td>00160J6</td>\n",
       "      <td>BYPASS CEREB VENT TO PERITON CAV W SYNTH SUB, ...</td>\n",
       "      <td>1372</td>\n",
       "      <td>796</td>\n",
       "      <td>576</td>\n",
       "    </tr>\n",
       "    <tr>\n",
       "      <th>4</th>\n",
       "      <td>00160JB</td>\n",
       "      <td>BYPASS CEREB VENT TO CEREB CISTERN W SYNTH SUB...</td>\n",
       "      <td>46</td>\n",
       "      <td>17</td>\n",
       "      <td>29</td>\n",
       "    </tr>\n",
       "  </tbody>\n",
       "</table>\n",
       "</div>"
      ],
      "text/plain": [
       "  ProcedureCode                                      ProcedureDesc TotalProc  \\\n",
       "0       0016073  BYPASS CEREB VENT TO BLOOD VESS W AUTOL SUB, OPEN         2   \n",
       "1       00160J2  BYPASS CEREB VENT TO ATRIUM WITH SYNTH SUB, OP...        17   \n",
       "2       00160J4  BYPASS CEREB VENT TO PLEURAL CAV W SYNTH SUB, ...        17   \n",
       "3       00160J6  BYPASS CEREB VENT TO PERITON CAV W SYNTH SUB, ...      1372   \n",
       "4       00160JB  BYPASS CEREB VENT TO CEREB CISTERN W SYNTH SUB...        46   \n",
       "\n",
       "  PrimaryProc SecondProc  \n",
       "0           0          2  \n",
       "1           8          9  \n",
       "2           6         11  \n",
       "3         796        576  \n",
       "4          17         29  "
      ]
     },
     "execution_count": 4,
     "metadata": {},
     "output_type": "execute_result"
    }
   ],
   "source": [
    "proc_df.head()"
   ]
  },
  {
   "cell_type": "markdown",
   "metadata": {},
   "source": [
    "### Solution\n",
    "**1. Give the codes that have 'CORONARY ARTERY\" in the description**"
   ]
  },
  {
   "cell_type": "code",
   "execution_count": 5,
   "metadata": {},
   "outputs": [
    {
     "data": {
      "text/html": [
       "<div>\n",
       "<style scoped>\n",
       "    .dataframe tbody tr th:only-of-type {\n",
       "        vertical-align: middle;\n",
       "    }\n",
       "\n",
       "    .dataframe tbody tr th {\n",
       "        vertical-align: top;\n",
       "    }\n",
       "\n",
       "    .dataframe thead th {\n",
       "        text-align: right;\n",
       "    }\n",
       "</style>\n",
       "<table border=\"1\" class=\"dataframe\">\n",
       "  <thead>\n",
       "    <tr style=\"text-align: right;\">\n",
       "      <th></th>\n",
       "      <th>ProcedureCode</th>\n",
       "      <th>ProcedureDesc</th>\n",
       "      <th>TotalProc</th>\n",
       "      <th>PrimaryProc</th>\n",
       "      <th>SecondProc</th>\n",
       "    </tr>\n",
       "  </thead>\n",
       "  <tbody>\n",
       "    <tr>\n",
       "      <th>1190</th>\n",
       "      <td>02700ZZ</td>\n",
       "      <td>DILATION OF CORONARY ARTERY, ONE ARTERY, OPEN ...</td>\n",
       "      <td>7</td>\n",
       "      <td>3</td>\n",
       "      <td>4</td>\n",
       "    </tr>\n",
       "    <tr>\n",
       "      <th>1209</th>\n",
       "      <td>02703ZZ</td>\n",
       "      <td>DILATION OF CORONARY ARTERY, ONE ARTERY, PERC ...</td>\n",
       "      <td>4216</td>\n",
       "      <td>1508</td>\n",
       "      <td>2708</td>\n",
       "    </tr>\n",
       "    <tr>\n",
       "      <th>1216</th>\n",
       "      <td>02704ZZ</td>\n",
       "      <td>DILATION OF CORONARY ARTERY, ONE ARTERY, PERC ...</td>\n",
       "      <td>17</td>\n",
       "      <td>4</td>\n",
       "      <td>13</td>\n",
       "    </tr>\n",
       "    <tr>\n",
       "      <th>1239</th>\n",
       "      <td>02713ZZ</td>\n",
       "      <td>DILATION OF CORONARY ARTERY, TWO ARTERIES, PER...</td>\n",
       "      <td>364</td>\n",
       "      <td>121</td>\n",
       "      <td>243</td>\n",
       "    </tr>\n",
       "    <tr>\n",
       "      <th>1262</th>\n",
       "      <td>02723ZZ</td>\n",
       "      <td>DILATION OF CORONARY ARTERY, THREE ARTERIES, P...</td>\n",
       "      <td>41</td>\n",
       "      <td>19</td>\n",
       "      <td>22</td>\n",
       "    </tr>\n",
       "    <tr>\n",
       "      <th>1661</th>\n",
       "      <td>02N00ZZ</td>\n",
       "      <td>RELEASE CORONARY ARTERY, ONE ARTERY, OPEN APPR...</td>\n",
       "      <td>51</td>\n",
       "      <td>33</td>\n",
       "      <td>18</td>\n",
       "    </tr>\n",
       "    <tr>\n",
       "      <th>1662</th>\n",
       "      <td>02N10ZZ</td>\n",
       "      <td>RELEASE CORONARY ARTERY, TWO ARTERIES, OPEN AP...</td>\n",
       "      <td>2</td>\n",
       "      <td>1</td>\n",
       "      <td>1</td>\n",
       "    </tr>\n",
       "    <tr>\n",
       "      <th>1741</th>\n",
       "      <td>02Q00ZZ</td>\n",
       "      <td>REPAIR CORONARY ARTERY, ONE ARTERY, OPEN APPROACH</td>\n",
       "      <td>87</td>\n",
       "      <td>26</td>\n",
       "      <td>61</td>\n",
       "    </tr>\n",
       "    <tr>\n",
       "      <th>1742</th>\n",
       "      <td>02Q03ZZ</td>\n",
       "      <td>REPAIR CORONARY ARTERY, ONE ARTERY, PERCUTANEO...</td>\n",
       "      <td>10</td>\n",
       "      <td>5</td>\n",
       "      <td>5</td>\n",
       "    </tr>\n",
       "    <tr>\n",
       "      <th>1743</th>\n",
       "      <td>02Q10ZZ</td>\n",
       "      <td>REPAIR CORONARY ARTERY, TWO ARTERIES, OPEN APP...</td>\n",
       "      <td>5</td>\n",
       "      <td>0</td>\n",
       "      <td>5</td>\n",
       "    </tr>\n",
       "    <tr>\n",
       "      <th>1744</th>\n",
       "      <td>02Q13ZZ</td>\n",
       "      <td>REPAIR CORONARY ARTERY, TWO ARTERIES, PERCUTAN...</td>\n",
       "      <td>1</td>\n",
       "      <td>1</td>\n",
       "      <td>0</td>\n",
       "    </tr>\n",
       "    <tr>\n",
       "      <th>1881</th>\n",
       "      <td>02S00ZZ</td>\n",
       "      <td>REPOSITION CORONARY ARTERY, ONE ARTERY, OPEN A...</td>\n",
       "      <td>98</td>\n",
       "      <td>56</td>\n",
       "      <td>42</td>\n",
       "    </tr>\n",
       "    <tr>\n",
       "      <th>1882</th>\n",
       "      <td>02S10ZZ</td>\n",
       "      <td>REPOSITION CORONARY ARTERY, TWO ARTERIES, OPEN...</td>\n",
       "      <td>153</td>\n",
       "      <td>34</td>\n",
       "      <td>119</td>\n",
       "    </tr>\n",
       "    <tr>\n",
       "      <th>26121</th>\n",
       "      <td>B2100ZZ</td>\n",
       "      <td>FLUOROSCOPY OF SINGLE CORONARY ARTERY USING H ...</td>\n",
       "      <td>4</td>\n",
       "      <td>0</td>\n",
       "      <td>4</td>\n",
       "    </tr>\n",
       "    <tr>\n",
       "      <th>26123</th>\n",
       "      <td>B2101ZZ</td>\n",
       "      <td>FLUOROSCOPY OF SINGLE CORONARY ARTERY USING L ...</td>\n",
       "      <td>1487</td>\n",
       "      <td>64</td>\n",
       "      <td>1423</td>\n",
       "    </tr>\n",
       "    <tr>\n",
       "      <th>26125</th>\n",
       "      <td>B210YZZ</td>\n",
       "      <td>FLUOROSCOPY OF SINGLE CORONARY ARTERY USING OT...</td>\n",
       "      <td>337</td>\n",
       "      <td>13</td>\n",
       "      <td>324</td>\n",
       "    </tr>\n",
       "    <tr>\n",
       "      <th>26178</th>\n",
       "      <td>B240YZZ</td>\n",
       "      <td>ULTRASONOGRAPHY OF SINGLE CORONARY ARTERY USIN...</td>\n",
       "      <td>10</td>\n",
       "      <td>0</td>\n",
       "      <td>10</td>\n",
       "    </tr>\n",
       "    <tr>\n",
       "      <th>26179</th>\n",
       "      <td>B240ZZ3</td>\n",
       "      <td>ULTRASONOGRAPHY OF SINGLE CORONARY ARTERY, INT...</td>\n",
       "      <td>2315</td>\n",
       "      <td>2</td>\n",
       "      <td>2313</td>\n",
       "    </tr>\n",
       "    <tr>\n",
       "      <th>26180</th>\n",
       "      <td>B240ZZ4</td>\n",
       "      <td>ULTRASONOGRAPHY OF SINGLE CORONARY ARTERY, TRA...</td>\n",
       "      <td>13</td>\n",
       "      <td>7</td>\n",
       "      <td>6</td>\n",
       "    </tr>\n",
       "    <tr>\n",
       "      <th>26181</th>\n",
       "      <td>B240ZZZ</td>\n",
       "      <td>ULTRASONOGRAPHY OF SINGLE CORONARY ARTERY</td>\n",
       "      <td>9</td>\n",
       "      <td>1</td>\n",
       "      <td>8</td>\n",
       "    </tr>\n",
       "  </tbody>\n",
       "</table>\n",
       "</div>"
      ],
      "text/plain": [
       "      ProcedureCode                                      ProcedureDesc  \\\n",
       "1190        02700ZZ  DILATION OF CORONARY ARTERY, ONE ARTERY, OPEN ...   \n",
       "1209        02703ZZ  DILATION OF CORONARY ARTERY, ONE ARTERY, PERC ...   \n",
       "1216        02704ZZ  DILATION OF CORONARY ARTERY, ONE ARTERY, PERC ...   \n",
       "1239        02713ZZ  DILATION OF CORONARY ARTERY, TWO ARTERIES, PER...   \n",
       "1262        02723ZZ  DILATION OF CORONARY ARTERY, THREE ARTERIES, P...   \n",
       "1661        02N00ZZ  RELEASE CORONARY ARTERY, ONE ARTERY, OPEN APPR...   \n",
       "1662        02N10ZZ  RELEASE CORONARY ARTERY, TWO ARTERIES, OPEN AP...   \n",
       "1741        02Q00ZZ  REPAIR CORONARY ARTERY, ONE ARTERY, OPEN APPROACH   \n",
       "1742        02Q03ZZ  REPAIR CORONARY ARTERY, ONE ARTERY, PERCUTANEO...   \n",
       "1743        02Q10ZZ  REPAIR CORONARY ARTERY, TWO ARTERIES, OPEN APP...   \n",
       "1744        02Q13ZZ  REPAIR CORONARY ARTERY, TWO ARTERIES, PERCUTAN...   \n",
       "1881        02S00ZZ  REPOSITION CORONARY ARTERY, ONE ARTERY, OPEN A...   \n",
       "1882        02S10ZZ  REPOSITION CORONARY ARTERY, TWO ARTERIES, OPEN...   \n",
       "26121       B2100ZZ  FLUOROSCOPY OF SINGLE CORONARY ARTERY USING H ...   \n",
       "26123       B2101ZZ  FLUOROSCOPY OF SINGLE CORONARY ARTERY USING L ...   \n",
       "26125       B210YZZ  FLUOROSCOPY OF SINGLE CORONARY ARTERY USING OT...   \n",
       "26178       B240YZZ  ULTRASONOGRAPHY OF SINGLE CORONARY ARTERY USIN...   \n",
       "26179       B240ZZ3  ULTRASONOGRAPHY OF SINGLE CORONARY ARTERY, INT...   \n",
       "26180       B240ZZ4  ULTRASONOGRAPHY OF SINGLE CORONARY ARTERY, TRA...   \n",
       "26181       B240ZZZ          ULTRASONOGRAPHY OF SINGLE CORONARY ARTERY   \n",
       "\n",
       "      TotalProc PrimaryProc SecondProc  \n",
       "1190          7           3          4  \n",
       "1209       4216        1508       2708  \n",
       "1216         17           4         13  \n",
       "1239        364         121        243  \n",
       "1262         41          19         22  \n",
       "1661         51          33         18  \n",
       "1662          2           1          1  \n",
       "1741         87          26         61  \n",
       "1742         10           5          5  \n",
       "1743          5           0          5  \n",
       "1744          1           1          0  \n",
       "1881         98          56         42  \n",
       "1882        153          34        119  \n",
       "26121         4           0          4  \n",
       "26123      1487          64       1423  \n",
       "26125       337          13        324  \n",
       "26178        10           0         10  \n",
       "26179      2315           2       2313  \n",
       "26180        13           7          6  \n",
       "26181         9           1          8  "
      ]
     },
     "execution_count": 5,
     "metadata": {},
     "output_type": "execute_result"
    }
   ],
   "source": [
    "coronary_df = proc_df[proc_df['ProcedureDesc'].str.contains('CORONARY ARTERY')]\n",
    "coronary_df"
   ]
  },
  {
   "cell_type": "markdown",
   "metadata": {},
   "source": [
    "**2. What percentage of primary procedure codes could be grouped at the B category level?**"
   ]
  },
  {
   "cell_type": "code",
   "execution_count": 6,
   "metadata": {},
   "outputs": [
    {
     "data": {
      "text/plain": [
       "87"
      ]
     },
     "execution_count": 6,
     "metadata": {},
     "output_type": "execute_result"
    }
   ],
   "source": [
    "B_cat_level_sum = sum(coronary_df[coronary_df['ProcedureCode'].str.startswith('B')]['PrimaryProc'].astype(int))\n",
    "B_cat_level_sum"
   ]
  },
  {
   "cell_type": "code",
   "execution_count": 7,
   "metadata": {},
   "outputs": [
    {
     "data": {
      "text/plain": [
       "1898"
      ]
     },
     "execution_count": 7,
     "metadata": {},
     "output_type": "execute_result"
    }
   ],
   "source": [
    "total_primary_proc = sum(coronary_df['PrimaryProc'].astype(int))\n",
    "total_primary_proc"
   ]
  },
  {
   "cell_type": "code",
   "execution_count": 8,
   "metadata": {},
   "outputs": [
    {
     "data": {
      "text/plain": [
       "0.0458377239199157"
      ]
     },
     "execution_count": 8,
     "metadata": {},
     "output_type": "execute_result"
    }
   ],
   "source": [
    "float(B_cat_level_sum/total_primary_proc)"
   ]
  },
  {
   "cell_type": "markdown",
   "metadata": {},
   "source": [
    "**3. What is the highest percentage grouping you can make with 3 characters for the secondary procedure code?** "
   ]
  },
  {
   "cell_type": "code",
   "execution_count": 9,
   "metadata": {},
   "outputs": [
    {
     "data": {
      "text/plain": [
       "{'027', '02N', '02Q', '02S', 'B21', 'B24'}"
      ]
     },
     "execution_count": 9,
     "metadata": {},
     "output_type": "execute_result"
    }
   ],
   "source": [
    "three_code_list = set(coronary_df['ProcedureCode'].str[0:3])\n",
    "three_code_list"
   ]
  },
  {
   "cell_type": "code",
   "execution_count": 10,
   "metadata": {},
   "outputs": [],
   "source": [
    "def calculate_percent_grouped(df, three_letter_code):\n",
    "    second_group_level_sum = sum(df[df['ProcedureCode'].str.startswith(three_letter_code)]['SecondProc'].astype(int))\n",
    "    total_secondary_proc = sum(df['SecondProc'].astype(int))\n",
    "    print(\"Three letter code:{}\\nPercent Grouped:{}\".format( three_letter_code, \n",
    "                                                            float(second_group_level_sum/total_secondary_proc)))"
   ]
  },
  {
   "cell_type": "code",
   "execution_count": 11,
   "metadata": {},
   "outputs": [
    {
     "name": "stdout",
     "output_type": "stream",
     "text": [
      "Three letter code:B24\n",
      "Percent Grouped:0.31887024150634463\n",
      "Three letter code:02Q\n",
      "Percent Grouped:0.009687542638832036\n",
      "Three letter code:027\n",
      "Percent Grouped:0.40796834493109563\n",
      "Three letter code:02N\n",
      "Percent Grouped:0.002592440987856461\n",
      "Three letter code:B21\n",
      "Percent Grouped:0.23891390367035067\n",
      "Three letter code:02S\n",
      "Percent Grouped:0.021967526265520534\n"
     ]
    }
   ],
   "source": [
    "for c in three_code_list:\n",
    "    calculate_percent_grouped(coronary_df, c)"
   ]
  },
  {
   "cell_type": "code",
   "execution_count": null,
   "metadata": {},
   "outputs": [],
   "source": []
  }
 ],
 "metadata": {
  "kernelspec": {
   "display_name": "Python 3",
   "language": "python",
   "name": "python3"
  },
  "language_info": {
   "codemirror_mode": {
    "name": "ipython",
    "version": 3
   },
   "file_extension": ".py",
   "mimetype": "text/x-python",
   "name": "python",
   "nbconvert_exporter": "python",
   "pygments_lexer": "ipython3",
   "version": "3.7.6"
  }
 },
 "nbformat": 4,
 "nbformat_minor": 4
}
